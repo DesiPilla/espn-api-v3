{
 "cells": [
  {
   "cell_type": "code",
   "execution_count": 1,
   "metadata": {},
   "outputs": [],
   "source": [
    "import numpy as np\n",
    "import pandas as pd\n",
    "import matplotlib.pyplot as plt\n",
    "\n",
    "from espn_api.football import League, Team, Player\n",
    "\n",
    "from collections import Counter"
   ]
  },
  {
   "cell_type": "code",
   "execution_count": 20,
   "metadata": {},
   "outputs": [],
   "source": [
    "year = 2020\n",
    "\n",
    "login = pd.read_csv('login.csv')\n",
    "manager, league_name, league_id, swid, espn_s2 = login.iloc[0]\n",
    "\n",
    "league = League(league_id=league_id,\n",
    "                year=year,\n",
    "                swid=swid, \n",
    "                espn_s2=espn_s2)\n",
    "\n",
    "week = 4\n",
    "league.load_roster_week(week)\n",
    "\n",
    "team = league.teams[0]\n",
    "# player = team.roster[0]\n",
    "\n",
    "league.load_roster_week(10)\n",
    "box_scores = league.box_scores(1)\n",
    "box_score = box_scores[0]"
   ]
  },
  {
   "cell_type": "code",
   "execution_count": 343,
   "metadata": {},
   "outputs": [
    {
     "data": {
      "text/plain": [
       "1"
      ]
     },
     "execution_count": 343,
     "metadata": {},
     "output_type": "execute_result"
    }
   ],
   "source": [
    "a = [('a', 1), ('b', 5), ('c', 4), ('d', 4), ('e', 2)]\n",
    "s = [i[1] for i in a]\n",
    "sorted(s, reverse=True).index(4)"
   ]
  },
  {
   "cell_type": "code",
   "execution_count": 3,
   "metadata": {},
   "outputs": [],
   "source": [
    "# Get a dictionary of the starting roster slots and number of each for the League (Week 1 must have passed already)\n",
    "starting_roster_slots = Counter([p.slot_position for p in league.box_scores(1)[0].home_lineup if p.slot_position not in ['BE', 'IR']])"
   ]
  },
  {
   "cell_type": "code",
   "execution_count": 12,
   "metadata": {},
   "outputs": [
    {
     "name": "stdout",
     "output_type": "stream",
     "text": [
      "\n",
      " Week 1\n",
      "---------------------  ------\n",
      "Week Score:            124.68\n",
      "Best Possible Lineup:  139.58\n",
      "Opponent Score:        132.74\n",
      "Weekly Finish:         4\n",
      "Best Trio:             63.18\n",
      "Number of Injuries:    0\n",
      "Starting QB pts:       31.78\n",
      "Avg. Starting RB pts:  19.1\n",
      "Avg. Starting WR pts:  5.25\n",
      "Starting TE pts:       7.3\n",
      "Starting Flex pts:     7.95\n",
      "Starting DST pts:      12\n",
      "Starting K pts:        9\n",
      "Total Bench pts:       74.96\n"
     ]
    }
   ],
   "source": [
    "def get_top_players(team: Team, slot: str, n: int):\n",
    "    ''' Takes a list of players and returns a list of the top n players based on points scored. '''\n",
    "    # Gather players of the desired position\n",
    "    eligible_players = []\n",
    "    for player in team.roster:\n",
    "        if slot in player.eligibleSlots:\n",
    "            eligible_players.append(player)\n",
    "            \n",
    "    return sorted(eligible_players, key=lambda x: x.stats[1]['points'], reverse=True)[:n]\n",
    "\n",
    "\n",
    "def get_best_lineup(team: Team):\n",
    "    ''' Returns the best possible lineup for team during the loaded week. '''\n",
    "    # Save full roster \n",
    "    saved_roster = team.roster[:]\n",
    "\n",
    "    # Find Best Lineup\n",
    "    best_lineup = []\n",
    "    for slot in sorted(starting_roster_slots.keys(), key=len):  # Get best RB before best RB/WR/TE\n",
    "        num_players = starting_roster_slots[slot]\n",
    "        best_players = get_top_players(team, slot, num_players)\n",
    "        best_lineup.extend(best_players)\n",
    "        \n",
    "        # Remove selected players from consideration for other slots\n",
    "        for player in best_players:\n",
    "            team.roster.remove(player)\n",
    "            \n",
    "    # Restore original roster\n",
    "    team.roster = saved_roster\n",
    "\n",
    "    return np.sum([player.stats[1]['points'] for player in best_lineup])\n",
    "\n",
    "\n",
    "def get_best_trio(team: Team):\n",
    "    ''' Returns the the sum of the top QB/RB/Reciever trio for a team during the loaded week. '''\n",
    "    qb = get_top_players(team, 'QB', 1)[0].stats[1]['points']\n",
    "    rb = get_top_players(team, 'RB', 1)[0].stats[1]['points']\n",
    "    wr = get_top_players(team, 'WR', 1)[0].stats[1]['points']\n",
    "    te = get_top_players(team, 'TE', 1)[0].stats[1]['points']\n",
    "    best_trio = round(qb + rb + max(wr, te), 2)\n",
    "    return best_trio\n",
    "\n",
    "def get_weekly_finish(league: League, team: Team, week: int):\n",
    "    ''' Returns the rank of a team compared to the rest of the league by points for (for the loaded week) '''\n",
    "    league_scores = [tm.scores[week-1] for tm in league.teams]\n",
    "    league_scores = sorted(league_scores, reverse=True)\n",
    "    return league_scores.index(team.scores[week-1]) + 1\n",
    "\n",
    "def get_num_out(team: Team):\n",
    "    ''' Returns the (esimated) number of players who did not play for a team for the loaded week (excluding IR slot players). '''\n",
    "    num_out = 0\n",
    "    # TODO: write new code based on if player was injured\n",
    "    return num_out\n",
    "\n",
    "def avg_starting_score_slot(lineup: list, slot: str):\n",
    "    ''' \n",
    "    Returns the average score for starting players of a specified slot.\n",
    "    `lineup` is either BoxScore().away_lineup or BoxScore().home_lineup (a list of BoxPlayers)\n",
    "    '''\n",
    "    return np.mean([player.stats[1]['points'] for player in box_score.home_lineup if player.slot_position == slot])\n",
    "\n",
    "def total_bench_points(lineup: list):\n",
    "    ''' \n",
    "    Returns the total score for bench players\n",
    "    `lineup` is either BoxScore().away_lineup or BoxScore().home_lineup (a list of BoxPlayers)\n",
    "    '''\n",
    "    return np.sum([player.stats[1]['points'] for player in box_score.home_lineup if player.slot_position == 'BE'])\n",
    "    \n",
    "    \n",
    "\n",
    "from tabulate import tabulate as table\n",
    "def print_weekly_stats(league: league, team: Team, week: int):\n",
    "    ''' Print the weekly stats for the team during a given week. '''\n",
    "    # Get the lineup for the team during the specified week\n",
    "    box_scores = league.box_scores(week)\n",
    "    for box_score in box_scores:\n",
    "        if team == box_score.home_team:\n",
    "            lineup = box_score.home_lineup\n",
    "        elif team == box_score.away_team:\n",
    "            lineup = box_score.away_lineup\n",
    "    \n",
    "    stats_table = [['Week Score: ', team.scores[week-1]],\n",
    "                   ['Best Possible Lineup: ', get_best_lineup(team)],\n",
    "                   ['Opponent Score: ', team.schedule[week-1].scores[week-1]],\n",
    "                   \n",
    "                   ['Weekly Finish: ', get_weekly_finish(league, team, week)],\n",
    "                   ['Best Trio: ', get_best_trio(team)],\n",
    "                   ['Number of Injuries: ', get_num_out(team)],\n",
    "                   ['Starting QB pts: ', avg_starting_score_slot(team, 'QB')],\n",
    "                   ['Avg. Starting RB pts: ', avg_starting_score_slot(team, 'RB')],\n",
    "                   ['Avg. Starting WR pts: ', avg_starting_score_slot(team, 'WR')],\n",
    "                   ['Starting TE pts: ', avg_starting_score_slot(team, 'TE')],\n",
    "                   ['Starting Flex pts: ', avg_starting_score_slot(team, 'RB/WR/TE')],\n",
    "                   ['Starting DST pts: ', avg_starting_score_slot(team, r'D/ST')],\n",
    "                   ['Starting K pts: ', avg_starting_score_slot(team, 'K')],\n",
    "                   ['Total Bench pts: ', total_bench_points(team)]]\n",
    "    \n",
    "    print('\\n', table(stats_table, headers = ['Week ' + str(week), ''], numalign = 'left'))\n",
    "    \n",
    "print_weekly_stats(team, 1)"
   ]
  },
  {
   "cell_type": "code",
   "execution_count": null,
   "metadata": {
    "scrolled": false
   },
   "outputs": [],
   "source": [
    "#league.power_rankings(week)"
   ]
  },
  {
   "cell_type": "code",
   "execution_count": 336,
   "metadata": {},
   "outputs": [],
   "source": [
    "def get_weekly_luck_index(league: League, team: Team, week: int, num_teams: int):\n",
    "    ''' \n",
    "    This function returns an index quantifying how 'lucky' a team was in a given week \n",
    "    \n",
    "    Luck index:\n",
    "        50% probability of playing a team with a lower record\n",
    "        25% your play compared to previous weeks\n",
    "        25% opp's play compared to previous weeks\n",
    "    '''\n",
    "    opp = team.schedule[week-1]\n",
    "    \n",
    "    # Luck Index based on where the team and its opponent finished compared to the rest of the league  \n",
    "    rank = get_weekly_finish(league, team, week)\n",
    "    opp_rank = get_weekly_finish(league, opp, week)\n",
    "\n",
    "    if rank < opp_rank:                                # If the team won...\n",
    "        luck_index = 5 * (rank - 1) / (num_teams - 2)  # Odds of this team playing a team with a higher score than it\n",
    "    elif rank > opp_rank:                              # If the team lost or tied...\n",
    "        luck_index = -5 * (num_teams - rank) / (num_teams - 2)    # Odds of this team playing a team with a lower score than it\n",
    "\n",
    "    # If the team tied...\n",
    "    elif rank < (num_teams / 2):                                      \n",
    "        luck_index = -2.5 * (num_teams - rank - 1) / (num_teams - 2)  # They are only half as unlucky, because tying is not as bad as losing\n",
    "    else:\n",
    "        luck_index = 2.5 * (rank - 1) / (num_teams - 2)               # They are only half as lucky, because tying is not as good as winning\n",
    "\n",
    "\n",
    "    # Update luck index based on how team played compared to normal\n",
    "    team_score = team.scores[week - 1]\n",
    "    team_avg = np.mean(team.scores[:week])\n",
    "    team_std = np.std(team.scores[:week])\n",
    "    if team_std != 0:\n",
    "        # Get z-score of the team's performance\n",
    "        z = (team_score - team_avg) / team_std\n",
    "        \n",
    "        # Noramlize the z-score so that a performance 3 std dev's away from the mean has an effect of 2 points on the luck index\n",
    "        z_norm = z / (3*team_std) * 2.5\n",
    "        luck_index += z_norm\n",
    "\n",
    "    # Update luck index based on how opponent played compared to normal\n",
    "    opp_score = opp.scores[week - 1]\n",
    "    opp_avg = np.mean(opp.scores[:week])\n",
    "    opp_std = np.std(opp.scores[:week])\n",
    "    if team_std != 0:\n",
    "        # Get z-score of the team's performance\n",
    "        z = (opp_score - opp_avg) / opp_std\n",
    "        \n",
    "        # Noramlize the z-score so that a performance 3 std dev's away from the mean has an effect of 2 points on the luck index\n",
    "        z_norm = z / (3*opp_std) * 2.5\n",
    "        luck_index -= z_norm\n",
    "    \n",
    "    return luck_index / 10\n",
    "\n",
    "\n",
    "def get_season_luck_indices(league: League, week: int):\n",
    "    ''' This function returns an index quantifying how 'lucky' a team was all season long (up to a certain week) '''\n",
    "    luck_indices = {team:0 for team in league.teams}\n",
    "    for wk in range(1, week + 1):\n",
    "        # Update luck_index for each team\n",
    "        for team in league.teams:\n",
    "            luck_indices[team] += get_weekly_luck_index(team, week, len(league.teams))\n",
    "    return luck_indices"
   ]
  },
  {
   "cell_type": "code",
   "execution_count": 335,
   "metadata": {},
   "outputs": [
    {
     "data": {
      "text/plain": [
       "[(Team(DJ Chark doo doo doo doo), 5.0068028772958435),\n",
       " (Team(Milk and  Dalvin Cookies), 2.9790090731134082),\n",
       " (Team(Fresh Prince of Helaire), 2.0835728254697865),\n",
       " (Team(Can't Start Mike), -0.01267057171035671),\n",
       " (Team(Lockett the OG), -0.08357282546978607),\n",
       " (Team(Tannesaurus Rex), -1.0068028772958424),\n",
       " (Team(Antonio Brownies ), -2.9790090731134082),\n",
       " (Team(Ma Homie), -5.987329428289644)]"
      ]
     },
     "execution_count": 335,
     "metadata": {},
     "output_type": "execute_result"
    }
   ],
   "source": [
    "# Get luck index\n",
    "week = 12\n",
    "sorted(get_season_luck_indices(league, week).items(), key=lambda x: x[1], reverse=True)"
   ]
  },
  {
   "cell_type": "code",
   "execution_count": 49,
   "metadata": {},
   "outputs": [
    {
     "data": {
      "text/plain": [
       "[123.2, 178.7, 146.0, 81.6, 124.58]"
      ]
     },
     "execution_count": 49,
     "metadata": {},
     "output_type": "execute_result"
    }
   ],
   "source": [
    "week = 5\n",
    "opp = team.schedule[week-1]\n",
    "\n"
   ]
  },
  {
   "cell_type": "code",
   "execution_count": 54,
   "metadata": {},
   "outputs": [
    {
     "data": {
      "text/plain": [
       "2.124309708013391"
      ]
     },
     "execution_count": 54,
     "metadata": {},
     "output_type": "execute_result"
    }
   ],
   "source": [
    "get_weekly_luck_index(league.teams[0], 5, 8)"
   ]
  },
  {
   "cell_type": "code",
   "execution_count": 40,
   "metadata": {},
   "outputs": [
    {
     "data": {
      "text/plain": [
       "2.5100000000000002"
      ]
     },
     "execution_count": 40,
     "metadata": {},
     "output_type": "execute_result"
    }
   ],
   "source": [
    "3.97 - 1.46"
   ]
  },
  {
   "cell_type": "code",
   "execution_count": 11,
   "metadata": {},
   "outputs": [
    {
     "ename": "AttributeError",
     "evalue": "'League' object has no attribute 'box_score'",
     "output_type": "error",
     "traceback": [
      "\u001b[1;31m---------------------------------------------------------------------------\u001b[0m",
      "\u001b[1;31mAttributeError\u001b[0m                            Traceback (most recent call last)",
      "\u001b[1;32m<ipython-input-11-7c3c45866a57>\u001b[0m in \u001b[0;36m<module>\u001b[1;34m\u001b[0m\n\u001b[1;32m----> 1\u001b[1;33m \u001b[0mleague\u001b[0m\u001b[1;33m.\u001b[0m\u001b[0mbox_score\u001b[0m\u001b[1;33m\u001b[0m\u001b[1;33m\u001b[0m\u001b[0m\n\u001b[0m",
      "\u001b[1;31mAttributeError\u001b[0m: 'League' object has no attribute 'box_score'"
     ]
    }
   ],
   "source": [
    "league.box_score"
   ]
  },
  {
   "cell_type": "code",
   "execution_count": 263,
   "metadata": {},
   "outputs": [
    {
     "data": {
      "text/plain": [
       "{Team(Fresh Prince of Helaire): 10,\n",
       " Team(Lockett the OG): 0,\n",
       " Team(Can't Start Mike): 0,\n",
       " Team(Milk and  Dalvin Cookies): 0,\n",
       " Team(DJ Chark doo doo doo doo): 0,\n",
       " Team(Tannesaurus Rex): 0,\n",
       " Team(Ma Homie): 0,\n",
       " Team(Antonio Brownies ): 0}"
      ]
     },
     "execution_count": 263,
     "metadata": {},
     "output_type": "execute_result"
    }
   ],
   "source": [
    "# league.box_scores(1)\n",
    "a = {team:0 for team in league.teams}\n",
    "a[team] += 10\n",
    "a"
   ]
  },
  {
   "cell_type": "code",
   "execution_count": 42,
   "metadata": {},
   "outputs": [
    {
     "data": {
      "text/plain": [
       "[Player(Patriots D/ST)]"
      ]
     },
     "execution_count": 42,
     "metadata": {},
     "output_type": "execute_result"
    }
   ],
   "source": []
  },
  {
   "cell_type": "code",
   "execution_count": null,
   "metadata": {},
   "outputs": [],
   "source": []
  }
 ],
 "metadata": {
  "kernelspec": {
   "display_name": "Python 3",
   "language": "python",
   "name": "python3"
  },
  "language_info": {
   "codemirror_mode": {
    "name": "ipython",
    "version": 3
   },
   "file_extension": ".py",
   "mimetype": "text/x-python",
   "name": "python",
   "nbconvert_exporter": "python",
   "pygments_lexer": "ipython3",
   "version": "3.8.3"
  }
 },
 "nbformat": 4,
 "nbformat_minor": 4
}
