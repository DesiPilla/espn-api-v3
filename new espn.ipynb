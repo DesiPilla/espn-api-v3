{
 "cells": [
  {
   "cell_type": "code",
   "execution_count": 2,
   "metadata": {},
   "outputs": [],
   "source": [
    "import numpy as np\n",
    "import pandas as pd\n",
    "import matplotlib.pyplot as plt\n",
    "\n",
    "from espn_api.football import League, Team, Player\n",
    "\n",
    "from copy import copy\n",
    "from collections import Counter\n",
    "from tabulate import tabulate as table"
   ]
  },
  {
   "cell_type": "code",
   "execution_count": 65,
   "metadata": {},
   "outputs": [],
   "source": [
    "year = 2020\n",
    "\n",
    "login = pd.read_csv('login.csv')\n",
    "manager, league_name, league_id, swid, espn_s2 = login.iloc[0]\n",
    "\n",
    "league = League(league_id=league_id,\n",
    "                year=year,\n",
    "                swid=swid, \n",
    "                espn_s2=espn_s2)\n",
    "\n",
    "week = 4\n",
    "league.load_roster_week(week)\n",
    "\n",
    "team = league.teams[0]\n",
    "player = team.roster[0]\n",
    "\n",
    "box_scores = league.box_scores(week)\n",
    "box_score = box_scores[0]"
   ]
  },
  {
   "cell_type": "code",
   "execution_count": null,
   "metadata": {},
   "outputs": [],
   "source": []
  },
  {
   "cell_type": "code",
   "execution_count": null,
   "metadata": {},
   "outputs": [],
   "source": []
  },
  {
   "cell_type": "code",
   "execution_count": 30,
   "metadata": {},
   "outputs": [],
   "source": [
    "# Get a dictionary of the starting roster slots and number of each for the League (Week 1 must have passed already)\n",
    "starting_roster_slots = Counter([p.slot_position for p in league.box_scores(1)[0].home_lineup if p.slot_position not in ['BE', 'IR']])"
   ]
  },
  {
   "cell_type": "code",
   "execution_count": 95,
   "metadata": {},
   "outputs": [],
   "source": [
    "box_scores[2].home_lineup[-7].points\n"
   ]
  },
  {
   "cell_type": "code",
   "execution_count": 103,
   "metadata": {},
   "outputs": [
    {
     "name": "stdout",
     "output_type": "stream",
     "text": [
      "\n",
      " Week 4\n",
      "---------------------  ------\n",
      "Week Score:            167.3\n",
      "Best Possible Lineup:  199.66\n",
      "Opponent Score:        148.42\n",
      "Weekly Finish:         1\n",
      "Best Trio:             85.86\n",
      "Number of Injuries:    0\n",
      "Starting QB pts:       20.9\n",
      "Avg. Starting RB pts:  14.9\n",
      "Avg. Starting WR pts:  22.2\n",
      "Starting TE pts:       32.6\n",
      "Starting Flex pts:     5.3\n",
      "Starting DST pts:      12\n",
      "Starting K pts:        17\n",
      "Total Bench pts:       70.66\n"
     ]
    }
   ],
   "source": [
    "def get_lineup(league: League, team: Team, week: int):\n",
    "    ''' Return the lineup of the given team during the given week '''\n",
    "    # Get the lineup for the team during the specified week\n",
    "    box_scores = league.box_scores(week)\n",
    "    for box_score in box_scores:\n",
    "        if team == box_score.home_team:\n",
    "            return = box_score.home_lineup\n",
    "        elif team == box_score.away_team:\n",
    "            return = box_score.away_lineup\n",
    "\n",
    "def get_top_players(lineup: list, slot: str, n: int):\n",
    "    ''' Takes a list of players and returns a list of the top n players based on points scored. '''\n",
    "    # Gather players of the desired position\n",
    "    eligible_players = []\n",
    "    for player in lineup:\n",
    "        if slot in player.eligibleSlots:\n",
    "            eligible_players.append(player)\n",
    "            \n",
    "    return sorted(eligible_players, key=lambda x: x.points, reverse=True)[:n]\n",
    "\n",
    "\n",
    "def get_best_lineup(lineup: list):\n",
    "    ''' Returns the best possible lineup for team during the loaded week. '''\n",
    "    # Save full roster\n",
    "    saved_roster = copy(lineup)\n",
    "    \n",
    "    # Find Best Lineup\n",
    "    best_lineup = []\n",
    "    for slot in sorted(starting_roster_slots.keys(), key=len):  # Get best RB before best RB/WR/TE\n",
    "        num_players = starting_roster_slots[slot]\n",
    "        best_players = get_top_players(saved_roster, slot, num_players)\n",
    "        best_lineup.extend(best_players)\n",
    "        \n",
    "        # Remove selected players from consideration for other slots\n",
    "        for player in best_players:\n",
    "            saved_roster.remove(player)\n",
    "\n",
    "    return np.sum([player.points for player in best_lineup])\n",
    "\n",
    "\n",
    "def get_best_trio(lineup: list):\n",
    "    ''' Returns the the sum of the top QB/RB/Reciever trio for a team during the loaded week. '''\n",
    "    qb = get_top_players(lineup, 'QB', 1)[0].points\n",
    "    rb = get_top_players(lineup, 'RB', 1)[0].points\n",
    "    wr = get_top_players(lineup, 'WR', 1)[0].points\n",
    "    te = get_top_players(lineup, 'TE', 1)[0].points\n",
    "    best_trio = round(qb + rb + max(wr, te), 2)\n",
    "    return best_trio\n",
    "\n",
    "def get_weekly_finish(league: League, team: Team, week: int):\n",
    "    ''' Returns the rank of a team compared to the rest of the league by points for (for the loaded week) '''\n",
    "    league_scores = [tm.scores[week-1] for tm in league.teams]\n",
    "    league_scores = sorted(league_scores, reverse=True)\n",
    "    return league_scores.index(team.scores[week-1]) + 1\n",
    "\n",
    "def get_num_out(lineup: list):\n",
    "    ''' Returns the (esimated) number of players who did not play for a team for the loaded week (excluding IR slot players). '''\n",
    "    num_out = 0\n",
    "    # TODO: write new code based on if player was injured\n",
    "    return num_out\n",
    "\n",
    "def avg_slot_score(lineup: list, slot: str):\n",
    "    ''' \n",
    "    Returns the average score for starting players of a specified slot.\n",
    "    `lineup` is either BoxScore().away_lineup or BoxScore().home_lineup (a list of BoxPlayers)\n",
    "    '''\n",
    "    return np.mean([player.points for player in lineup if player.slot_position == slot])\n",
    "\n",
    "def sum_bench_points(lineup: list):\n",
    "    ''' \n",
    "    Returns the total score for bench players\n",
    "    `lineup` is either BoxScore().away_lineup or BoxScore().home_lineup (a list of BoxPlayers)\n",
    "    '''\n",
    "    return np.sum([player.points for player in lineup if player.slot_position == 'BE'])\n",
    "\n",
    "def print_weekly_stats(league: League, team: Team, week: int):\n",
    "    ''' Print the weekly stats for the team during a given week. '''\n",
    "\n",
    "    lineup = get_lineup(league, team, week)\n",
    "    stats_table = [['Week Score: ', team.scores[week-1]],\n",
    "                   ['Best Possible Lineup: ', get_best_lineup(lineup)],\n",
    "                   ['Opponent Score: ', team.schedule[week-1].scores[week-1]],\n",
    "                   \n",
    "                   ['Weekly Finish: ', get_weekly_finish(league, team, week)],\n",
    "                   ['Best Trio: ', get_best_trio(lineup)],\n",
    "                   ['Number of Injuries: ', get_num_out(lineup)],\n",
    "                   ['Starting QB pts: ', avg_slot_score(lineup, 'QB')],\n",
    "                   ['Avg. Starting RB pts: ', avg_slot_score(lineup, 'RB')],\n",
    "                   ['Avg. Starting WR pts: ', avg_slot_score(lineup, 'WR')],\n",
    "                   ['Starting TE pts: ', avg_slot_score(lineup, 'TE')],\n",
    "                   ['Starting Flex pts: ', avg_slot_score(lineup, 'RB/WR/TE')],\n",
    "                   ['Starting DST pts: ', avg_slot_score(lineup, r'D/ST')],\n",
    "                   ['Starting K pts: ', avg_slot_score(lineup, 'K')],\n",
    "                   ['Total Bench pts: ', sum_bench_points(lineup)]]\n",
    "    \n",
    "    print('\\n', table(stats_table, headers = ['Week ' + str(week), ''], numalign = 'left'))\n",
    "    \n",
    "print_weekly_stats(league, team, week)"
   ]
  },
  {
   "cell_type": "code",
   "execution_count": null,
   "metadata": {
    "scrolled": false
   },
   "outputs": [],
   "source": [
    "#league.power_rankings(week)"
   ]
  },
  {
   "cell_type": "code",
   "execution_count": 110,
   "metadata": {},
   "outputs": [],
   "source": [
    "def get_weekly_luck_index(league: League, team: Team, week: int):\n",
    "    ''' \n",
    "    This function returns an index quantifying how 'lucky' a team was in a given week \n",
    "    \n",
    "    Luck index:\n",
    "        50% probability of playing a team with a lower record\n",
    "        25% your play compared to previous weeks\n",
    "        25% opp's play compared to previous weeks\n",
    "    '''\n",
    "    opp = team.schedule[week-1]\n",
    "    num_teams = len(league.teams)\n",
    "    \n",
    "    # Luck Index based on where the team and its opponent finished compared to the rest of the league  \n",
    "    rank = get_weekly_finish(league, team, week)\n",
    "    opp_rank = get_weekly_finish(league, opp, week)\n",
    "\n",
    "    if rank < opp_rank:                                # If the team won...\n",
    "        luck_index = 5 * (rank - 1) / (num_teams - 2)  # Odds of this team playing a team with a higher score than it\n",
    "    elif rank > opp_rank:                              # If the team lost or tied...\n",
    "        luck_index = -5 * (num_teams - rank) / (num_teams - 2)    # Odds of this team playing a team with a lower score than it\n",
    "\n",
    "    # If the team tied...\n",
    "    elif rank < (num_teams / 2):                                      \n",
    "        luck_index = -2.5 * (num_teams - rank - 1) / (num_teams - 2)  # They are only half as unlucky, because tying is not as bad as losing\n",
    "    else:\n",
    "        luck_index = 2.5 * (rank - 1) / (num_teams - 2)               # They are only half as lucky, because tying is not as good as winning\n",
    "\n",
    "\n",
    "    # Update luck index based on how team played compared to normal\n",
    "    team_score = team.scores[week - 1]\n",
    "    team_avg = np.mean(team.scores[:week])\n",
    "    team_std = np.std(team.scores[:week])\n",
    "    if team_std != 0:\n",
    "        # Get z-score of the team's performance\n",
    "        z = (team_score - team_avg) / team_std\n",
    "        \n",
    "        # Noramlize the z-score so that a performance 3 std dev's away from the mean has an effect of 2 points on the luck index\n",
    "        z_norm = z / (3*team_std) * 2.5\n",
    "        luck_index += z_norm\n",
    "\n",
    "    # Update luck index based on how opponent played compared to normal\n",
    "    opp_score = opp.scores[week - 1]\n",
    "    opp_avg = np.mean(opp.scores[:week])\n",
    "    opp_std = np.std(opp.scores[:week])\n",
    "    if team_std != 0:\n",
    "        # Get z-score of the team's performance\n",
    "        z = (opp_score - opp_avg) / opp_std\n",
    "        \n",
    "        # Noramlize the z-score so that a performance 3 std dev's away from the mean has an effect of 2 points on the luck index\n",
    "        z_norm = z / (3*opp_std) * 2.5\n",
    "        luck_index -= z_norm\n",
    "    \n",
    "    return luck_index / 10\n",
    "\n",
    "\n",
    "def get_season_luck_indices(league: League, week: int):\n",
    "    ''' This function returns an index quantifying how 'lucky' a team was all season long (up to a certain week) '''\n",
    "    luck_indices = {team:0 for team in league.teams}\n",
    "    for wk in range(1, week + 1):\n",
    "        # Update luck_index for each team\n",
    "        for team in league.teams:\n",
    "            luck_indices[team] += get_weekly_luck_index(league, team, week)\n",
    "    return luck_indices"
   ]
  },
  {
   "cell_type": "code",
   "execution_count": 111,
   "metadata": {},
   "outputs": [
    {
     "data": {
      "text/plain": [
       "[(Team(DJ Chark doo doo doo doo), 5.0068028772958435),\n",
       " (Team(Milk and  Dalvin Cookies), 2.9790090731134082),\n",
       " (Team(Fresh Prince of Helaire), 2.0835728254697865),\n",
       " (Team(Can't Start Mike), -0.01267057171035671),\n",
       " (Team(Lockett the OG), -0.08357282546978607),\n",
       " (Team(Tannesaurus Rex), -1.0068028772958424),\n",
       " (Team(Antonio Brownies ), -2.9790090731134082),\n",
       " (Team(Ma Homie), -5.987329428289644)]"
      ]
     },
     "execution_count": 111,
     "metadata": {},
     "output_type": "execute_result"
    }
   ],
   "source": [
    "# Get luck index\n",
    "week = 12\n",
    "sorted(get_season_luck_indices(league, week).items(), key=lambda x: x[1], reverse=True)"
   ]
  },
  {
   "cell_type": "code",
   "execution_count": 125,
   "metadata": {},
   "outputs": [
    {
     "data": {
      "text/plain": [
       "False"
      ]
     },
     "execution_count": 125,
     "metadata": {},
     "output_type": "execute_result"
    }
   ],
   "source": []
  },
  {
   "cell_type": "code",
   "execution_count": 136,
   "metadata": {},
   "outputs": [
    {
     "ename": "TypeError",
     "evalue": "'Team' object is not iterable",
     "output_type": "error",
     "traceback": [
      "\u001b[1;31m---------------------------------------------------------------------------\u001b[0m",
      "\u001b[1;31mTypeError\u001b[0m                                 Traceback (most recent call last)",
      "\u001b[1;32m<ipython-input-136-106d9dae6c37>\u001b[0m in \u001b[0;36m<module>\u001b[1;34m\u001b[0m\n\u001b[0;32m     36\u001b[0m     \u001b[0mprint\u001b[0m\u001b[1;33m(\u001b[0m\u001b[1;34m'\\n'\u001b[0m\u001b[1;33m,\u001b[0m \u001b[0mtable\u001b[0m\u001b[1;33m(\u001b[0m\u001b[0mstatsTable\u001b[0m\u001b[1;33m,\u001b[0m \u001b[0mheaders\u001b[0m \u001b[1;33m=\u001b[0m \u001b[1;33m[\u001b[0m\u001b[1;34m'Week '\u001b[0m \u001b[1;33m+\u001b[0m \u001b[0mstr\u001b[0m\u001b[1;33m(\u001b[0m\u001b[0mweek\u001b[0m\u001b[1;33m)\u001b[0m\u001b[1;33m,\u001b[0m \u001b[1;34m''\u001b[0m\u001b[1;33m]\u001b[0m\u001b[1;33m)\u001b[0m\u001b[1;33m)\u001b[0m\u001b[1;33m\u001b[0m\u001b[1;33m\u001b[0m\u001b[0m\n\u001b[0;32m     37\u001b[0m \u001b[1;33m\u001b[0m\u001b[0m\n\u001b[1;32m---> 38\u001b[1;33m \u001b[0mprint_weekly_stats\u001b[0m\u001b[1;33m(\u001b[0m\u001b[0mleague\u001b[0m\u001b[1;33m,\u001b[0m \u001b[0mweek\u001b[0m\u001b[1;33m)\u001b[0m\u001b[1;33m\u001b[0m\u001b[1;33m\u001b[0m\u001b[0m\n\u001b[0m",
      "\u001b[1;32m<ipython-input-136-106d9dae6c37>\u001b[0m in \u001b[0;36mprint_weekly_stats\u001b[1;34m(league, week)\u001b[0m\n\u001b[0;32m     10\u001b[0m     statsTable = [['Most Points Scored: ', sorted(league.teams, key=lambda x:x.scores[week-1], reverse=True)[0].owner],\n\u001b[0;32m     11\u001b[0m                    \u001b[1;33m[\u001b[0m\u001b[1;34m'Least Points Scored: '\u001b[0m\u001b[1;33m,\u001b[0m \u001b[0msorted\u001b[0m\u001b[1;33m(\u001b[0m\u001b[0mleague\u001b[0m\u001b[1;33m.\u001b[0m\u001b[0mteams\u001b[0m\u001b[1;33m,\u001b[0m \u001b[0mkey\u001b[0m\u001b[1;33m=\u001b[0m\u001b[1;32mlambda\u001b[0m \u001b[0mx\u001b[0m\u001b[1;33m:\u001b[0m\u001b[0mx\u001b[0m\u001b[1;33m.\u001b[0m\u001b[0mscores\u001b[0m\u001b[1;33m[\u001b[0m\u001b[0mweek\u001b[0m\u001b[1;33m-\u001b[0m\u001b[1;36m1\u001b[0m\u001b[1;33m]\u001b[0m\u001b[1;33m)\u001b[0m\u001b[1;33m[\u001b[0m\u001b[1;36m0\u001b[0m\u001b[1;33m]\u001b[0m\u001b[1;33m.\u001b[0m\u001b[0mowner\u001b[0m\u001b[1;33m]\u001b[0m\u001b[1;33m,\u001b[0m\u001b[1;33m\u001b[0m\u001b[1;33m\u001b[0m\u001b[0m\n\u001b[1;32m---> 12\u001b[1;33m                    \u001b[1;33m[\u001b[0m\u001b[1;34m'Best Possible Lineup: '\u001b[0m\u001b[1;33m,\u001b[0m \u001b[0msort_by_func\u001b[0m\u001b[1;33m(\u001b[0m\u001b[0mleague\u001b[0m\u001b[1;33m,\u001b[0m \u001b[0mget_best_lineup\u001b[0m\u001b[1;33m)\u001b[0m\u001b[1;33m[\u001b[0m\u001b[1;33m-\u001b[0m\u001b[1;36m1\u001b[0m\u001b[1;33m]\u001b[0m\u001b[1;33m.\u001b[0m\u001b[0mowner\u001b[0m\u001b[1;33m]\u001b[0m\u001b[1;33m,\u001b[0m\u001b[1;33m\u001b[0m\u001b[1;33m\u001b[0m\u001b[0m\n\u001b[0m\u001b[0;32m     13\u001b[0m                    \u001b[1;33m[\u001b[0m\u001b[1;34m'Best Trio: '\u001b[0m\u001b[1;33m,\u001b[0m \u001b[0msort_by_func\u001b[0m\u001b[1;33m(\u001b[0m\u001b[0mleague\u001b[0m\u001b[1;33m,\u001b[0m \u001b[0mget_best_trio\u001b[0m\u001b[1;33m)\u001b[0m\u001b[1;33m[\u001b[0m\u001b[1;33m-\u001b[0m\u001b[1;36m1\u001b[0m\u001b[1;33m]\u001b[0m\u001b[1;33m.\u001b[0m\u001b[0mowner\u001b[0m\u001b[1;33m]\u001b[0m\u001b[1;33m,\u001b[0m\u001b[1;33m\u001b[0m\u001b[1;33m\u001b[0m\u001b[0m\n\u001b[0;32m     14\u001b[0m                    \u001b[1;33m[\u001b[0m\u001b[1;34m'Worst Trio: '\u001b[0m\u001b[1;33m,\u001b[0m \u001b[0msort_by_func\u001b[0m\u001b[1;33m(\u001b[0m\u001b[0mleague\u001b[0m\u001b[1;33m,\u001b[0m \u001b[0mget_best_trio\u001b[0m\u001b[1;33m)\u001b[0m\u001b[1;33m[\u001b[0m\u001b[1;36m0\u001b[0m\u001b[1;33m]\u001b[0m\u001b[1;33m.\u001b[0m\u001b[0mowner\u001b[0m\u001b[1;33m]\u001b[0m\u001b[1;33m,\u001b[0m\u001b[1;33m\u001b[0m\u001b[1;33m\u001b[0m\u001b[0m\n",
      "\u001b[1;32m<ipython-input-136-106d9dae6c37>\u001b[0m in \u001b[0;36msort_by_func\u001b[1;34m(league, func)\u001b[0m\n\u001b[0;32m      1\u001b[0m \u001b[1;32mdef\u001b[0m \u001b[0msort_by_func\u001b[0m\u001b[1;33m(\u001b[0m\u001b[0mleague\u001b[0m\u001b[1;33m:\u001b[0m \u001b[0mLeague\u001b[0m\u001b[1;33m,\u001b[0m \u001b[0mfunc\u001b[0m\u001b[1;33m)\u001b[0m\u001b[1;33m:\u001b[0m\u001b[1;33m\u001b[0m\u001b[1;33m\u001b[0m\u001b[0m\n\u001b[0;32m      2\u001b[0m     \u001b[1;34m''' Sorts league teams according to function. Values are sorted ascending. '''\u001b[0m\u001b[1;33m\u001b[0m\u001b[1;33m\u001b[0m\u001b[0m\n\u001b[1;32m----> 3\u001b[1;33m     \u001b[1;32mreturn\u001b[0m \u001b[0msorted\u001b[0m\u001b[1;33m(\u001b[0m\u001b[0mleague\u001b[0m\u001b[1;33m.\u001b[0m\u001b[0mteams\u001b[0m\u001b[1;33m,\u001b[0m \u001b[0mkey\u001b[0m\u001b[1;33m=\u001b[0m\u001b[1;32mlambda\u001b[0m \u001b[0mx\u001b[0m\u001b[1;33m:\u001b[0m\u001b[0mfunc\u001b[0m\u001b[1;33m(\u001b[0m\u001b[0mx\u001b[0m\u001b[1;33m)\u001b[0m\u001b[1;33m)\u001b[0m\u001b[1;33m\u001b[0m\u001b[1;33m\u001b[0m\u001b[0m\n\u001b[0m\u001b[0;32m      4\u001b[0m \u001b[1;33m\u001b[0m\u001b[0m\n\u001b[0;32m      5\u001b[0m \u001b[1;32mdef\u001b[0m \u001b[0mprint_weekly_stats\u001b[0m\u001b[1;33m(\u001b[0m\u001b[0mleague\u001b[0m\u001b[1;33m:\u001b[0m \u001b[0mLeague\u001b[0m\u001b[1;33m,\u001b[0m \u001b[0mweek\u001b[0m\u001b[1;33m:\u001b[0m \u001b[0mint\u001b[0m\u001b[1;33m)\u001b[0m\u001b[1;33m:\u001b[0m\u001b[1;33m\u001b[0m\u001b[1;33m\u001b[0m\u001b[0m\n",
      "\u001b[1;32m<ipython-input-136-106d9dae6c37>\u001b[0m in \u001b[0;36m<lambda>\u001b[1;34m(x)\u001b[0m\n\u001b[0;32m      1\u001b[0m \u001b[1;32mdef\u001b[0m \u001b[0msort_by_func\u001b[0m\u001b[1;33m(\u001b[0m\u001b[0mleague\u001b[0m\u001b[1;33m:\u001b[0m \u001b[0mLeague\u001b[0m\u001b[1;33m,\u001b[0m \u001b[0mfunc\u001b[0m\u001b[1;33m)\u001b[0m\u001b[1;33m:\u001b[0m\u001b[1;33m\u001b[0m\u001b[1;33m\u001b[0m\u001b[0m\n\u001b[0;32m      2\u001b[0m     \u001b[1;34m''' Sorts league teams according to function. Values are sorted ascending. '''\u001b[0m\u001b[1;33m\u001b[0m\u001b[1;33m\u001b[0m\u001b[0m\n\u001b[1;32m----> 3\u001b[1;33m     \u001b[1;32mreturn\u001b[0m \u001b[0msorted\u001b[0m\u001b[1;33m(\u001b[0m\u001b[0mleague\u001b[0m\u001b[1;33m.\u001b[0m\u001b[0mteams\u001b[0m\u001b[1;33m,\u001b[0m \u001b[0mkey\u001b[0m\u001b[1;33m=\u001b[0m\u001b[1;32mlambda\u001b[0m \u001b[0mx\u001b[0m\u001b[1;33m:\u001b[0m\u001b[0mfunc\u001b[0m\u001b[1;33m(\u001b[0m\u001b[0mx\u001b[0m\u001b[1;33m)\u001b[0m\u001b[1;33m)\u001b[0m\u001b[1;33m\u001b[0m\u001b[1;33m\u001b[0m\u001b[0m\n\u001b[0m\u001b[0;32m      4\u001b[0m \u001b[1;33m\u001b[0m\u001b[0m\n\u001b[0;32m      5\u001b[0m \u001b[1;32mdef\u001b[0m \u001b[0mprint_weekly_stats\u001b[0m\u001b[1;33m(\u001b[0m\u001b[0mleague\u001b[0m\u001b[1;33m:\u001b[0m \u001b[0mLeague\u001b[0m\u001b[1;33m,\u001b[0m \u001b[0mweek\u001b[0m\u001b[1;33m:\u001b[0m \u001b[0mint\u001b[0m\u001b[1;33m)\u001b[0m\u001b[1;33m:\u001b[0m\u001b[1;33m\u001b[0m\u001b[1;33m\u001b[0m\u001b[0m\n",
      "\u001b[1;32m<ipython-input-103-37465a696399>\u001b[0m in \u001b[0;36mget_best_lineup\u001b[1;34m(lineup)\u001b[0m\n\u001b[0;32m     19\u001b[0m     \u001b[1;32mfor\u001b[0m \u001b[0mslot\u001b[0m \u001b[1;32min\u001b[0m \u001b[0msorted\u001b[0m\u001b[1;33m(\u001b[0m\u001b[0mstarting_roster_slots\u001b[0m\u001b[1;33m.\u001b[0m\u001b[0mkeys\u001b[0m\u001b[1;33m(\u001b[0m\u001b[1;33m)\u001b[0m\u001b[1;33m,\u001b[0m \u001b[0mkey\u001b[0m\u001b[1;33m=\u001b[0m\u001b[0mlen\u001b[0m\u001b[1;33m)\u001b[0m\u001b[1;33m:\u001b[0m  \u001b[1;31m# Get best RB before best RB/WR/TE\u001b[0m\u001b[1;33m\u001b[0m\u001b[1;33m\u001b[0m\u001b[0m\n\u001b[0;32m     20\u001b[0m         \u001b[0mnum_players\u001b[0m \u001b[1;33m=\u001b[0m \u001b[0mstarting_roster_slots\u001b[0m\u001b[1;33m[\u001b[0m\u001b[0mslot\u001b[0m\u001b[1;33m]\u001b[0m\u001b[1;33m\u001b[0m\u001b[1;33m\u001b[0m\u001b[0m\n\u001b[1;32m---> 21\u001b[1;33m         \u001b[0mbest_players\u001b[0m \u001b[1;33m=\u001b[0m \u001b[0mget_top_players\u001b[0m\u001b[1;33m(\u001b[0m\u001b[0msaved_roster\u001b[0m\u001b[1;33m,\u001b[0m \u001b[0mslot\u001b[0m\u001b[1;33m,\u001b[0m \u001b[0mnum_players\u001b[0m\u001b[1;33m)\u001b[0m\u001b[1;33m\u001b[0m\u001b[1;33m\u001b[0m\u001b[0m\n\u001b[0m\u001b[0;32m     22\u001b[0m         \u001b[0mbest_lineup\u001b[0m\u001b[1;33m.\u001b[0m\u001b[0mextend\u001b[0m\u001b[1;33m(\u001b[0m\u001b[0mbest_players\u001b[0m\u001b[1;33m)\u001b[0m\u001b[1;33m\u001b[0m\u001b[1;33m\u001b[0m\u001b[0m\n\u001b[0;32m     23\u001b[0m \u001b[1;33m\u001b[0m\u001b[0m\n",
      "\u001b[1;32m<ipython-input-103-37465a696399>\u001b[0m in \u001b[0;36mget_top_players\u001b[1;34m(lineup, slot, n)\u001b[0m\n\u001b[0;32m      3\u001b[0m     \u001b[1;31m# Gather players of the desired position\u001b[0m\u001b[1;33m\u001b[0m\u001b[1;33m\u001b[0m\u001b[1;33m\u001b[0m\u001b[0m\n\u001b[0;32m      4\u001b[0m     \u001b[0meligible_players\u001b[0m \u001b[1;33m=\u001b[0m \u001b[1;33m[\u001b[0m\u001b[1;33m]\u001b[0m\u001b[1;33m\u001b[0m\u001b[1;33m\u001b[0m\u001b[0m\n\u001b[1;32m----> 5\u001b[1;33m     \u001b[1;32mfor\u001b[0m \u001b[0mplayer\u001b[0m \u001b[1;32min\u001b[0m \u001b[0mlineup\u001b[0m\u001b[1;33m:\u001b[0m\u001b[1;33m\u001b[0m\u001b[1;33m\u001b[0m\u001b[0m\n\u001b[0m\u001b[0;32m      6\u001b[0m         \u001b[1;32mif\u001b[0m \u001b[0mslot\u001b[0m \u001b[1;32min\u001b[0m \u001b[0mplayer\u001b[0m\u001b[1;33m.\u001b[0m\u001b[0meligibleSlots\u001b[0m\u001b[1;33m:\u001b[0m\u001b[1;33m\u001b[0m\u001b[1;33m\u001b[0m\u001b[0m\n\u001b[0;32m      7\u001b[0m             \u001b[0meligible_players\u001b[0m\u001b[1;33m.\u001b[0m\u001b[0mappend\u001b[0m\u001b[1;33m(\u001b[0m\u001b[0mplayer\u001b[0m\u001b[1;33m)\u001b[0m\u001b[1;33m\u001b[0m\u001b[1;33m\u001b[0m\u001b[0m\n",
      "\u001b[1;31mTypeError\u001b[0m: 'Team' object is not iterable"
     ]
    }
   ],
   "source": [
    "def sort_lineups_by_func(league: League, func):\n",
    "    ''' Sorts league teams according to function. Values are sorted ascending. '''\n",
    "        \n",
    "    return sorted(league.teams, key=lambda x:func(x))\n",
    "\n",
    "def sort_teams_by_func(league: League, func):\n",
    "    ''' Sorts league teams according to function. Values are sorted ascending. '''\n",
    "    return sorted(league.teams, key=lambda x:func(x))\n",
    "\n",
    "def print_weekly_stats(league: League, week: int):\n",
    "    ''' Prints weekly stat report for a league during a given week '''\n",
    "    # Load box scores for specified week\n",
    "    box_scores = league.box_scores(week)\n",
    "    \n",
    "    statsTable = [['Most Points Scored: ', sorted(league.teams, key=lambda x:x.scores[week-1], reverse=True)[0].owner],\n",
    "                   ['Least Points Scored: ', sorted(league.teams, key=lambda x:x.scores[week-1])[0].owner],\n",
    "                   ['Best Possible Lineup: ', sort_by_func(league, get_best_lineup)[-1].owner],\n",
    "                   ['Best Trio: ', sort_by_func(league, get_best_trio)[-1].owner],\n",
    "                   ['Worst Trio: ', sort_by_func(league, get_best_trio)[0].owner],\n",
    "#                    ['Best Lineup Setter', sortDifference(league, week)[1].owner],\n",
    "#                    ['Worst Lineup Setter', sortDifference(league, week)[last].owner],\n",
    "#                    ['---------------------','----------------'],\n",
    "#                    ['Best QBs: ', sortPositionScore(league, week, 0)[1].owner],\n",
    "#                    ['Best RBs: ', sortPositionScore(league, week, 2)[1].owner],\n",
    "#                    ['Best WRs: ', sortPositionScore(league, week, 4)[1].owner], \n",
    "#                    ['Best TEs: ', sortPositionScore(league, week, 6)[1].owner],\n",
    "#                    ['Best Flex: ', sortPositionScore(league, week, 23)[1].owner],\n",
    "#                    ['Best DST: ', sortPositionScore(league, week, 16)[1].owner],\n",
    "#                    ['Best K: ', sortPositionScore(league, week, 17)[1].owner],\n",
    "#                    ['Best Bench: ', sortBenchPoints(league, week)[1].owner],\n",
    "#                    ['---------------------','----------------'],\n",
    "#                    ['Worst QBs: ', sortPositionScore(league, week, 0)[last].owner],\n",
    "#                    ['Worst RBs: ', sortPositionScore(league, week, 2)[last].owner],\n",
    "#                    ['Worst WRs: ', sortPositionScore(league, week, 4)[last].owner], \n",
    "#                    ['Worst TEs: ', sortPositionScore(league, week, 6)[last].owner],\n",
    "#                    ['Worst Flex: ', sortPositionScore(league, week, 23)[last].owner],\n",
    "#                    ['Worst DST: ', sortPositionScore(league, week, 16)[last].owner],\n",
    "#                    ['Worst K: ', sortPositionScore(league, week, 17)[last].owner],\n",
    "#                    ['Worst Bench: ', sortBenchPoints(league, week)[last].owner]]\n",
    "                   ]\n",
    "    print('\\n', table(statsTable, headers = ['Week ' + str(week), ''])) \n",
    "    \n",
    "print_weekly_stats(league, week)"
   ]
  },
  {
   "cell_type": "code",
   "execution_count": 119,
   "metadata": {},
   "outputs": [
    {
     "data": {
      "text/plain": [
       "[5, 4, 4, 3, 3, 2, 2, 1, 1]"
      ]
     },
     "execution_count": 119,
     "metadata": {},
     "output_type": "execute_result"
    }
   ],
   "source": [
    "a = [1, 2, 3, 4, 5, 4, 3, 2, 1]\n",
    "def func(i):\n",
    "    return -i\n",
    "sorted(a, key=lambda x:func(x))"
   ]
  },
  {
   "cell_type": "code",
   "execution_count": 29,
   "metadata": {},
   "outputs": [
    {
     "ename": "NameError",
     "evalue": "name 'get_best_trio' is not defined",
     "output_type": "error",
     "traceback": [
      "\u001b[1;31m---------------------------------------------------------------------------\u001b[0m",
      "\u001b[1;31mNameError\u001b[0m                                 Traceback (most recent call last)",
      "\u001b[1;32m<ipython-input-29-3d81c1dafef9>\u001b[0m in \u001b[0;36m<module>\u001b[1;34m\u001b[0m\n\u001b[0;32m      1\u001b[0m \u001b[1;32mfor\u001b[0m \u001b[0mt\u001b[0m \u001b[1;32min\u001b[0m \u001b[0mleague\u001b[0m\u001b[1;33m.\u001b[0m\u001b[0mteams\u001b[0m\u001b[1;33m:\u001b[0m\u001b[1;33m\u001b[0m\u001b[1;33m\u001b[0m\u001b[0m\n\u001b[1;32m----> 2\u001b[1;33m     \u001b[0mprint\u001b[0m\u001b[1;33m(\u001b[0m\u001b[1;34m'{:15}  {:.2f}'\u001b[0m\u001b[1;33m.\u001b[0m\u001b[0mformat\u001b[0m\u001b[1;33m(\u001b[0m\u001b[0mt\u001b[0m\u001b[1;33m.\u001b[0m\u001b[0mowner\u001b[0m\u001b[1;33m,\u001b[0m \u001b[0mget_best_trio\u001b[0m\u001b[1;33m(\u001b[0m\u001b[0mt\u001b[0m\u001b[1;33m)\u001b[0m\u001b[1;33m)\u001b[0m\u001b[1;33m)\u001b[0m\u001b[1;33m\u001b[0m\u001b[1;33m\u001b[0m\u001b[0m\n\u001b[0m",
      "\u001b[1;31mNameError\u001b[0m: name 'get_best_trio' is not defined"
     ]
    }
   ],
   "source": [
    "for t in league.teams:\n",
    "    print('{:15}  {:.2f}'.format(t.owner, get_best_trio(t)))"
   ]
  },
  {
   "cell_type": "code",
   "execution_count": 40,
   "metadata": {},
   "outputs": [
    {
     "data": {
      "text/plain": [
       "2.5100000000000002"
      ]
     },
     "execution_count": 40,
     "metadata": {},
     "output_type": "execute_result"
    }
   ],
   "source": [
    "3.97 - 1.46"
   ]
  },
  {
   "cell_type": "code",
   "execution_count": 11,
   "metadata": {},
   "outputs": [
    {
     "ename": "AttributeError",
     "evalue": "'League' object has no attribute 'box_score'",
     "output_type": "error",
     "traceback": [
      "\u001b[1;31m---------------------------------------------------------------------------\u001b[0m",
      "\u001b[1;31mAttributeError\u001b[0m                            Traceback (most recent call last)",
      "\u001b[1;32m<ipython-input-11-7c3c45866a57>\u001b[0m in \u001b[0;36m<module>\u001b[1;34m\u001b[0m\n\u001b[1;32m----> 1\u001b[1;33m \u001b[0mleague\u001b[0m\u001b[1;33m.\u001b[0m\u001b[0mbox_score\u001b[0m\u001b[1;33m\u001b[0m\u001b[1;33m\u001b[0m\u001b[0m\n\u001b[0m",
      "\u001b[1;31mAttributeError\u001b[0m: 'League' object has no attribute 'box_score'"
     ]
    }
   ],
   "source": [
    "league.box_score"
   ]
  },
  {
   "cell_type": "code",
   "execution_count": 263,
   "metadata": {},
   "outputs": [
    {
     "data": {
      "text/plain": [
       "{Team(Fresh Prince of Helaire): 10,\n",
       " Team(Lockett the OG): 0,\n",
       " Team(Can't Start Mike): 0,\n",
       " Team(Milk and  Dalvin Cookies): 0,\n",
       " Team(DJ Chark doo doo doo doo): 0,\n",
       " Team(Tannesaurus Rex): 0,\n",
       " Team(Ma Homie): 0,\n",
       " Team(Antonio Brownies ): 0}"
      ]
     },
     "execution_count": 263,
     "metadata": {},
     "output_type": "execute_result"
    }
   ],
   "source": [
    "# league.box_scores(1)\n",
    "a = {team:0 for team in league.teams}\n",
    "a[team] += 10\n",
    "a"
   ]
  },
  {
   "cell_type": "code",
   "execution_count": 42,
   "metadata": {},
   "outputs": [
    {
     "data": {
      "text/plain": [
       "[Player(Patriots D/ST)]"
      ]
     },
     "execution_count": 42,
     "metadata": {},
     "output_type": "execute_result"
    }
   ],
   "source": []
  },
  {
   "cell_type": "code",
   "execution_count": null,
   "metadata": {},
   "outputs": [],
   "source": []
  }
 ],
 "metadata": {
  "kernelspec": {
   "display_name": "Python 3",
   "language": "python",
   "name": "python3"
  },
  "language_info": {
   "codemirror_mode": {
    "name": "ipython",
    "version": 3
   },
   "file_extension": ".py",
   "mimetype": "text/x-python",
   "name": "python",
   "nbconvert_exporter": "python",
   "pygments_lexer": "ipython3",
   "version": "3.8.3"
  }
 },
 "nbformat": 4,
 "nbformat_minor": 4
}
