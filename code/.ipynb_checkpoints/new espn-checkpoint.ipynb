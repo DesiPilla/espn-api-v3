{
 "cells": [
  {
   "cell_type": "code",
   "execution_count": 1,
   "metadata": {},
   "outputs": [],
   "source": [
    "import numpy as np\n",
    "import pandas as pd\n",
    "import matplotlib.pyplot as plt\n",
    "\n",
    "from espn_api.football import League, Team, Player\n",
    "\n",
    "from collections import Counter"
   ]
  },
  {
   "cell_type": "code",
   "execution_count": 100,
   "metadata": {},
   "outputs": [],
   "source": [
    "year = 2020\n",
    "\n",
    "login = pd.read_csv('login.csv')\n",
    "manager, league_name, league_id, swid, espn_s2 = login.iloc[0]\n",
    "\n",
    "league = League(league_id=league_id,\n",
    "                year=year,\n",
    "                swid=swid, \n",
    "                espn_s2=espn_s2)\n",
    "\n",
    "week = 1\n",
    "league.load_roster_week(week)\n",
    "\n",
    "team = league.teams[0]\n",
    "# player = team.roster[0]\n",
    "\n",
    "league.load_roster_week(1)\n",
    "box_scores = league.box_scores(1)\n",
    "box_score = box_scores[0]"
   ]
  },
  {
   "cell_type": "code",
   "execution_count": 11,
   "metadata": {},
   "outputs": [],
   "source": [
    "# Get a dictionary of the starting roster slots and number of each for the League (Week 1 must have passed already)\n",
    "starting_roster_slots = Counter([p.slot_position for p in league.box_scores(1)[0].home_lineup if p.slot_position not in ['BE', 'IR']])"
   ]
  },
  {
   "cell_type": "code",
   "execution_count": 216,
   "metadata": {},
   "outputs": [
    {
     "name": "stdout",
     "output_type": "stream",
     "text": [
      "\n",
      " Week 1\n",
      "---------------------  ------\n",
      "Week Score:            124.68\n",
      "Best Possible Lineup:  139.58\n",
      "Opponent Score:        132.74\n",
      "Weekly Finish:         6\n",
      "Best Trio:             63.18\n",
      "Number of Injuries:    0\n",
      "Starting QB pts:       28.18\n",
      "Avg. Starting RB pts:  11.95\n",
      "Avg. Starting WR pts:  10\n",
      "Starting TE pts:       14\n",
      "Starting Flex pts:     10.3\n",
      "Starting DST pts:      6\n",
      "Starting K pts:        11\n",
      "Total Bench pts:       94.7\n"
     ]
    }
   ],
   "source": [
    "def get_top_players(team: Team, slot: str, n: int):\n",
    "    ''' Takes a list of players and returns a list of the top n players based on points scored. '''\n",
    "    # Gather players of the desired position\n",
    "    eligible_players = []\n",
    "    for player in team.roster:\n",
    "        if slot in player.eligibleSlots:\n",
    "            eligible_players.append(player)\n",
    "            \n",
    "    return sorted(eligible_players, key=lambda x: x.stats[1]['points'], reverse=True)[:n]\n",
    "\n",
    "\n",
    "def get_best_lineup(team: Team):\n",
    "    ''' Returns the best possible lineup for team during the loaded week. '''\n",
    "    # Save full roster \n",
    "    saved_roster = team.roster[:]\n",
    "\n",
    "    # Find Best Lineup\n",
    "    best_lineup = []\n",
    "    for slot in sorted(starting_roster_slots.keys(), key=len):  # Get best RB before best RB/WR/TE\n",
    "        num_players = starting_roster_slots[slot]\n",
    "        best_players = get_top_players(team, slot, num_players)\n",
    "        best_lineup.extend(best_players)\n",
    "        \n",
    "        # Remove selected players from consideration for other slots\n",
    "        for player in best_players:\n",
    "            team.roster.remove(player)\n",
    "            \n",
    "    # Restore original roster\n",
    "    team.roster = saved_roster\n",
    "\n",
    "    return np.sum([player.stats[1]['points'] for player in best_lineup])\n",
    "\n",
    "\n",
    "def get_best_trio(team: Team):\n",
    "    ''' Returns the the sum of the top QB/RB/Reciever trio for a team during the loaded week. '''\n",
    "    qb = get_top_players(team, 'QB', 1)[0].stats[1]['points']\n",
    "    rb = get_top_players(team, 'RB', 1)[0].stats[1]['points']\n",
    "    wr = get_top_players(team, 'WR', 1)[0].stats[1]['points']\n",
    "    te = get_top_players(team, 'TE', 1)[0].stats[1]['points']\n",
    "    best_trio = round(qb + rb + max(wr, te), 2)\n",
    "    return best_trio\n",
    "\n",
    "def get_weekly_finish(team: Team):\n",
    "    ''' Returns the rank of a team compared to the rest of the league by points for (for the loaded week) '''\n",
    "    league_scores = sorted(league.teams, key=lambda x: x.scores[week], reverse=True)\n",
    "    return league_scores.index(team) + 1\n",
    "\n",
    "def get_num_out(team: Team):\n",
    "    ''' Returns the (esimated) number of players who did not play for a team for the loaded week (excluding IR slot players). '''\n",
    "    num_out = 0\n",
    "    # TODO: write new code based on if player was injured\n",
    "    return num_out\n",
    "\n",
    "def avg_starting_score_slot(lineup: list, slot: str):\n",
    "    ''' \n",
    "    Returns the average score for starting players of a specified slot.\n",
    "    `lineup` is either BoxScore().away_lineup or BoxScore().home_lineup (a list of BoxPlayers)\n",
    "    '''\n",
    "    return np.mean([player.stats[1]['points'] for player in box_score.home_lineup if player.slot_position == slot])\n",
    "\n",
    "def total_bench_points(lineup: list):\n",
    "    ''' \n",
    "    Returns the total score for bench players\n",
    "    `lineup` is either BoxScore().away_lineup or BoxScore().home_lineup (a list of BoxPlayers)\n",
    "    '''\n",
    "    return np.sum([player.stats[1]['points'] for player in box_score.home_lineup if player.slot_position == 'BE'])\n",
    "    \n",
    "    \n",
    "\n",
    "# from tabulate import tabulate as table\n",
    "# def print_weekly_stats(team: Team, week: int):\n",
    "#     ''' Print the weekly stats for the team during a given week. '''\n",
    "#     # Get the lineup for the team during the specified week\n",
    "#     box_scores = league.box_scores(week)\n",
    "#     for box_score in box_scores:\n",
    "#         if team == box_score.home_team:\n",
    "#             lineup = box_score.home_lineup\n",
    "#         elif team == box_score.away_team:\n",
    "#             lineup = box_score.away_lineup\n",
    "    \n",
    "#     stats_table = [['Week Score: ', team.scores[week-1]],\n",
    "#                    ['Best Possible Lineup: ', get_best_lineup(team)],\n",
    "#                    ['Opponent Score: ', team.schedule[week-1].scores[week-1]],\n",
    "                   \n",
    "#                    ['Weekly Finish: ', get_weekly_finish(team)],\n",
    "#                    ['Best Trio: ', get_best_trio(team)],\n",
    "#                    ['Number of Injuries: ', get_num_out(team)],\n",
    "#                    ['Starting QB pts: ', avg_starting_score_slot(team, 'QB')],\n",
    "#                    ['Avg. Starting RB pts: ', avg_starting_score_slot(team, 'RB')],\n",
    "#                    ['Avg. Starting WR pts: ', avg_starting_score_slot(team, 'WR')],\n",
    "#                    ['Starting TE pts: ', avg_starting_score_slot(team, 'TE')],\n",
    "#                    ['Starting Flex pts: ', avg_starting_score_slot(team, 'RB/WR/TE')],\n",
    "#                    ['Starting DST pts: ', avg_starting_score_slot(team, r'D/ST')],\n",
    "#                    ['Starting K pts: ', avg_starting_score_slot(team, 'K')],\n",
    "#                    ['Total Bench pts: ', total_bench_points(team)]]\n",
    "    \n",
    "#     print('\\n', table(stats_table, headers = ['Week ' + str(week), ''], numalign = 'left'))\n",
    "    \n",
    "print_weekly_stats(team, 1)"
   ]
  },
  {
   "cell_type": "code",
   "execution_count": 205,
   "metadata": {
    "scrolled": false
   },
   "outputs": [
    {
     "name": "stdout",
     "output_type": "stream",
     "text": [
      "Team(Fresh Prince of Helaire) 124.68\n",
      "132.74\n"
     ]
    }
   ],
   "source": [
    "week = 1\n",
    "team = league.teams[0]\n",
    "# box_scores = league.box_scores(week)\n",
    "\n",
    "\n",
    "score = \n",
    "opp_score = \n",
    "\n",
    "\n",
    "\n",
    "\n",
    "print(team, score)\n",
    "print(opp_score)"
   ]
  },
  {
   "cell_type": "code",
   "execution_count": 209,
   "metadata": {},
   "outputs": [
    {
     "data": {
      "text/plain": [
       "132.74"
      ]
     },
     "execution_count": 209,
     "metadata": {},
     "output_type": "execute_result"
    }
   ],
   "source": []
  },
  {
   "cell_type": "code",
   "execution_count": 45,
   "metadata": {},
   "outputs": [
    {
     "data": {
      "text/plain": [
       "[Player(Clyde Edwards-Helaire), Player(David Johnson)]"
      ]
     },
     "execution_count": 45,
     "metadata": {},
     "output_type": "execute_result"
    }
   ],
   "source": [
    "slot, num_players = 'RB/WR', 2\n",
    "\n",
    "get_top_players(team, week, slot, num_players)"
   ]
  },
  {
   "cell_type": "code",
   "execution_count": 39,
   "metadata": {},
   "outputs": [],
   "source": [
    "# box_score = league.box_scores(1)[0]\n",
    "# box_score.home_lineup"
   ]
  },
  {
   "cell_type": "code",
   "execution_count": 42,
   "metadata": {},
   "outputs": [
    {
     "data": {
      "text/plain": [
       "[Player(Patriots D/ST)]"
      ]
     },
     "execution_count": 42,
     "metadata": {},
     "output_type": "execute_result"
    }
   ],
   "source": [
    "get_top_players(team, week, slot, num_players)"
   ]
  },
  {
   "cell_type": "code",
   "execution_count": null,
   "metadata": {},
   "outputs": [],
   "source": []
  }
 ],
 "metadata": {
  "kernelspec": {
   "display_name": "Python 3",
   "language": "python",
   "name": "python3"
  },
  "language_info": {
   "codemirror_mode": {
    "name": "ipython",
    "version": 3
   },
   "file_extension": ".py",
   "mimetype": "text/x-python",
   "name": "python",
   "nbconvert_exporter": "python",
   "pygments_lexer": "ipython3",
   "version": "3.8.3"
  }
 },
 "nbformat": 4,
 "nbformat_minor": 4
}
